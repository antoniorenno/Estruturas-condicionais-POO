{
  "cells": [
    {
      "cell_type": "markdown",
      "metadata": {
        "id": "view-in-github",
        "colab_type": "text"
      },
      "source": [
        "<a href=\"https://colab.research.google.com/github/antoniorenno/Estruturas-condicionais-POO/blob/main/Ol%C3%A1%2C_este_%C3%A9_o_Colaboratory.ipynb\" target=\"_parent\"><img src=\"https://colab.research.google.com/assets/colab-badge.svg\" alt=\"Open In Colab\"/></a>"
      ]
    },
    {
      "cell_type": "code",
      "source": [
        "n1 = float(input(\"Digite nota 1:\"))\n",
        "n2 = float(input(\"Digite nota 2:\"))\n",
        "media = (n1+n2)/2\n",
        "if media >= 6:\n",
        "  print(\"Média = \", media)\n",
        "  print(\"Aprovado\")\n",
        "else:\n",
        "  print(\"Reprovado\")"
      ],
      "metadata": {
        "id": "_PPIPRnQjAIl",
        "outputId": "aacf3ea3-7e58-4679-fb52-73888056257d",
        "colab": {
          "base_uri": "https://localhost:8080/"
        }
      },
      "execution_count": 9,
      "outputs": [
        {
          "output_type": "stream",
          "name": "stdout",
          "text": [
            "Digite nota 1:8\n",
            "Digite nota 2:9\n",
            "Média =  8.5\n",
            "Aprovado\n"
          ]
        }
      ]
    },
    {
      "cell_type": "markdown",
      "source": [
        "Exemplo 3 sobre condicionais\n"
      ],
      "metadata": {
        "id": "XrpksOhxnkIU"
      }
    },
    {
      "cell_type": "code",
      "source": [
        "num = int(input(\"Digite um número\"))\n",
        "if num % 2 == 0:\n",
        "  print(\"Par\")\n",
        "else:\n",
        "  print(\"Ímpar\")"
      ],
      "metadata": {
        "id": "50xonPb5nrUL",
        "outputId": "99eb779c-a7cc-44d5-bf5b-a4b62976145f",
        "colab": {
          "base_uri": "https://localhost:8080/"
        }
      },
      "execution_count": 12,
      "outputs": [
        {
          "output_type": "stream",
          "name": "stdout",
          "text": [
            "Digite um número4\n",
            "Par\n"
          ]
        }
      ]
    },
    {
      "cell_type": "markdown",
      "source": [
        "EX04\n"
      ],
      "metadata": {
        "id": "PsUe2GmHpiyt"
      }
    },
    {
      "cell_type": "code",
      "source": [
        "import math\n",
        "numero = float(input(\"Digite um número: \"))\n",
        "if numero >= 0:\n",
        "  raiz_quadrada = math.sqrt(numero)\n",
        "  print(f\"A raiz quadrada de {numero} = {raiz_quadrada:}\")\n",
        "else:\n",
        "  print(\"não existe raiz quadrada para este número\")"
      ],
      "metadata": {
        "id": "oI7OD-uZplfk",
        "outputId": "1009e6be-bc96-4519-c3aa-72648d25e0e4",
        "colab": {
          "base_uri": "https://localhost:8080/"
        }
      },
      "execution_count": 21,
      "outputs": [
        {
          "output_type": "stream",
          "name": "stdout",
          "text": [
            "Digite um número: 81\n",
            "A raiz quadrada de 81.0 = 9.0\n"
          ]
        }
      ]
    },
    {
      "cell_type": "markdown",
      "source": [
        "EX05"
      ],
      "metadata": {
        "id": "PHjX8IORtMqc"
      }
    },
    {
      "cell_type": "code",
      "source": [
        "comprimento = float(input(\"Digite o comprimento: \"))\n",
        "largura = float(input(\"Digite a largura: \"))\n",
        "if comprimento <= 66 and largura <= 50:\n",
        "  print(\"O tamanho da camisa é PP\")\n",
        "elif comprimento <= 70 and largura <= 54:\n",
        "    print(\"O tamanho da camisa é P\")\n",
        "elif comprimento <= 72 and largura <= 56:\n",
        "    print(\"O tamanho da camisa é M\")\n",
        "elif comprimento <= 74 and largura <= 58:\n",
        "    print(\"O tamanho da camisa é G\")\n",
        "elif comprimento <= 76 and largura <= 60:\n",
        "    print(\"O tamanho da camisa é GG\")\n",
        "elif comprimento <= 79 and largura <= 63:\n",
        "    print(\"O tamanho da camisa é XGG\")"
      ],
      "metadata": {
        "id": "KqvKTM90tOft",
        "outputId": "7fe4d3cc-562c-439d-f228-a08e20f6457e",
        "colab": {
          "base_uri": "https://localhost:8080/"
        }
      },
      "execution_count": 24,
      "outputs": [
        {
          "output_type": "stream",
          "name": "stdout",
          "text": [
            "Digite o comprimento: 67\n",
            "Digite a largura: 53\n",
            "O tamanho da camisa é P\n"
          ]
        }
      ]
    }
  ],
  "metadata": {
    "colab": {
      "name": "Olá, este é o Colaboratory",
      "toc_visible": true,
      "provenance": [],
      "include_colab_link": true
    },
    "kernelspec": {
      "display_name": "Python 3",
      "name": "python3"
    }
  },
  "nbformat": 4,
  "nbformat_minor": 0
}